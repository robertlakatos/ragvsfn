{
 "cells": [
  {
   "cell_type": "code",
   "execution_count": 1,
   "id": "a87297d3-bede-4668-825b-2d7701695159",
   "metadata": {},
   "outputs": [],
   "source": [
    "import json\n",
    "import numpy as np\n",
    "import pandas as pd\n",
    "\n",
    "from tqdm import tqdm\n",
    "from datasets import load_dataset\n",
    "from nltk.tokenize import sent_tokenize\n",
    "from sentence_transformers import SentenceTransformer, util"
   ]
  },
  {
   "cell_type": "code",
   "execution_count": 2,
   "id": "1a74c72f-51c8-4c79-bcfd-a7102bd231b8",
   "metadata": {},
   "outputs": [
    {
     "name": "stderr",
     "output_type": "stream",
     "text": [
      "[nltk_data] Downloading package punkt_tab to /home/jovyan/nltk_data...\n",
      "[nltk_data]   Package punkt_tab is already up-to-date!\n"
     ]
    },
    {
     "data": {
      "text/plain": [
       "True"
      ]
     },
     "execution_count": 2,
     "metadata": {},
     "output_type": "execute_result"
    }
   ],
   "source": [
    "import nltk\n",
    "nltk.download('punkt_tab')"
   ]
  },
  {
   "cell_type": "code",
   "execution_count": 3,
   "id": "4a303c08-6b31-4718-ae03-d5c17da6cc11",
   "metadata": {},
   "outputs": [],
   "source": [
    "dir_root = \"Data/\""
   ]
  },
  {
   "cell_type": "code",
   "execution_count": 4,
   "id": "6c482a24-de09-497b-8728-8568eddcb42e",
   "metadata": {},
   "outputs": [
    {
     "name": "stdout",
     "output_type": "stream",
     "text": [
      "<class 'pandas.core.frame.DataFrame'>\n",
      "RangeIndex: 7871 entries, 0 to 7870\n",
      "Data columns (total 10 columns):\n",
      " #   Column          Non-Null Count  Dtype \n",
      "---  ------          --------------  ----- \n",
      " 0   question_focus  7871 non-null   object\n",
      " 1   question_type   7871 non-null   object\n",
      " 2   question        7871 non-null   object\n",
      " 3   answer          7871 non-null   object\n",
      " 4   wc              7871 non-null   int64 \n",
      " 5   t_opt_count     7871 non-null   int64 \n",
      " 6   t_gptj_count    7871 non-null   int64 \n",
      " 7   t_llama_count   7871 non-null   int64 \n",
      " 8   t_llama2_count  7871 non-null   int64 \n",
      " 9   name            7871 non-null   object\n",
      "dtypes: int64(5), object(5)\n",
      "memory usage: 615.0+ KB\n"
     ]
    },
    {
     "data": {
      "text/html": [
       "<div>\n",
       "<style scoped>\n",
       "    .dataframe tbody tr th:only-of-type {\n",
       "        vertical-align: middle;\n",
       "    }\n",
       "\n",
       "    .dataframe tbody tr th {\n",
       "        vertical-align: top;\n",
       "    }\n",
       "\n",
       "    .dataframe thead th {\n",
       "        text-align: right;\n",
       "    }\n",
       "</style>\n",
       "<table border=\"1\" class=\"dataframe\">\n",
       "  <thead>\n",
       "    <tr style=\"text-align: right;\">\n",
       "      <th></th>\n",
       "      <th>question_focus</th>\n",
       "      <th>question_type</th>\n",
       "      <th>question</th>\n",
       "      <th>answer</th>\n",
       "      <th>wc</th>\n",
       "      <th>t_opt_count</th>\n",
       "      <th>t_gptj_count</th>\n",
       "      <th>t_llama_count</th>\n",
       "      <th>t_llama2_count</th>\n",
       "      <th>name</th>\n",
       "    </tr>\n",
       "  </thead>\n",
       "  <tbody>\n",
       "    <tr>\n",
       "      <th>0</th>\n",
       "      <td>keratoderma with woolly hair</td>\n",
       "      <td>frequency</td>\n",
       "      <td>How many people are affected by keratoderma wi...</td>\n",
       "      <td>Keratoderma with woolly hair is rare; its prev...</td>\n",
       "      <td>82</td>\n",
       "      <td>111</td>\n",
       "      <td>110</td>\n",
       "      <td>120</td>\n",
       "      <td>120</td>\n",
       "      <td>MedQuAD Super Expert</td>\n",
       "    </tr>\n",
       "    <tr>\n",
       "      <th>1</th>\n",
       "      <td>keratoderma with woolly hair</td>\n",
       "      <td>inheritance</td>\n",
       "      <td>Is keratoderma with woolly hair inherited ?</td>\n",
       "      <td>Most cases of keratoderma with woolly hair hav...</td>\n",
       "      <td>56</td>\n",
       "      <td>69</td>\n",
       "      <td>68</td>\n",
       "      <td>79</td>\n",
       "      <td>79</td>\n",
       "      <td>MedQuAD Super Expert</td>\n",
       "    </tr>\n",
       "    <tr>\n",
       "      <th>2</th>\n",
       "      <td>Knobloch syndrome</td>\n",
       "      <td>frequency</td>\n",
       "      <td>How many people are affected by Knobloch syndr...</td>\n",
       "      <td>Knobloch syndrome is a rare condition. However...</td>\n",
       "      <td>15</td>\n",
       "      <td>21</td>\n",
       "      <td>20</td>\n",
       "      <td>25</td>\n",
       "      <td>25</td>\n",
       "      <td>MedQuAD Super Expert</td>\n",
       "    </tr>\n",
       "    <tr>\n",
       "      <th>3</th>\n",
       "      <td>Knobloch syndrome</td>\n",
       "      <td>inheritance</td>\n",
       "      <td>Is Knobloch syndrome inherited ?</td>\n",
       "      <td>This condition is inherited in an autosomal re...</td>\n",
       "      <td>51</td>\n",
       "      <td>60</td>\n",
       "      <td>59</td>\n",
       "      <td>69</td>\n",
       "      <td>69</td>\n",
       "      <td>MedQuAD Super Expert</td>\n",
       "    </tr>\n",
       "    <tr>\n",
       "      <th>4</th>\n",
       "      <td>Knobloch syndrome</td>\n",
       "      <td>treatment</td>\n",
       "      <td>What are the treatments for Knobloch syndrome ?</td>\n",
       "      <td>These resources address the diagnosis or manag...</td>\n",
       "      <td>90</td>\n",
       "      <td>119</td>\n",
       "      <td>118</td>\n",
       "      <td>148</td>\n",
       "      <td>148</td>\n",
       "      <td>MedQuAD Super Expert</td>\n",
       "    </tr>\n",
       "  </tbody>\n",
       "</table>\n",
       "</div>"
      ],
      "text/plain": [
       "                 question_focus question_type  \\\n",
       "0  keratoderma with woolly hair     frequency   \n",
       "1  keratoderma with woolly hair   inheritance   \n",
       "2             Knobloch syndrome     frequency   \n",
       "3             Knobloch syndrome   inheritance   \n",
       "4             Knobloch syndrome     treatment   \n",
       "\n",
       "                                            question  \\\n",
       "0  How many people are affected by keratoderma wi...   \n",
       "1        Is keratoderma with woolly hair inherited ?   \n",
       "2  How many people are affected by Knobloch syndr...   \n",
       "3                   Is Knobloch syndrome inherited ?   \n",
       "4    What are the treatments for Knobloch syndrome ?   \n",
       "\n",
       "                                              answer  wc  t_opt_count  \\\n",
       "0  Keratoderma with woolly hair is rare; its prev...  82          111   \n",
       "1  Most cases of keratoderma with woolly hair hav...  56           69   \n",
       "2  Knobloch syndrome is a rare condition. However...  15           21   \n",
       "3  This condition is inherited in an autosomal re...  51           60   \n",
       "4  These resources address the diagnosis or manag...  90          119   \n",
       "\n",
       "   t_gptj_count  t_llama_count  t_llama2_count                  name  \n",
       "0           110            120             120  MedQuAD Super Expert  \n",
       "1            68             79              79  MedQuAD Super Expert  \n",
       "2            20             25              25  MedQuAD Super Expert  \n",
       "3            59             69              69  MedQuAD Super Expert  \n",
       "4           118            148             148  MedQuAD Super Expert  "
      ]
     },
     "execution_count": 4,
     "metadata": {},
     "output_type": "execute_result"
    }
   ],
   "source": [
    "data = pd.read_json(f\"{dir_root}qaa.json\")\n",
    "data = data.reset_index(drop=True)\n",
    "data.info()\n",
    "data.head()"
   ]
  },
  {
   "cell_type": "code",
   "execution_count": 5,
   "id": "4c7e9c22-2168-4877-aa65-1cabbbe0c79f",
   "metadata": {},
   "outputs": [
    {
     "name": "stdout",
     "output_type": "stream",
     "text": [
      "<class 'pandas.core.frame.DataFrame'>\n",
      "RangeIndex: 6292 entries, 0 to 6291\n",
      "Data columns (total 3 columns):\n",
      " #   Column    Non-Null Count  Dtype \n",
      "---  ------    --------------  ----- \n",
      " 0   question  6292 non-null   object\n",
      " 1   answer    6292 non-null   object\n",
      " 2   input     6292 non-null   object\n",
      "dtypes: object(3)\n",
      "memory usage: 147.6+ KB\n"
     ]
    },
    {
     "data": {
      "text/html": [
       "<div>\n",
       "<style scoped>\n",
       "    .dataframe tbody tr th:only-of-type {\n",
       "        vertical-align: middle;\n",
       "    }\n",
       "\n",
       "    .dataframe tbody tr th {\n",
       "        vertical-align: top;\n",
       "    }\n",
       "\n",
       "    .dataframe thead th {\n",
       "        text-align: right;\n",
       "    }\n",
       "</style>\n",
       "<table border=\"1\" class=\"dataframe\">\n",
       "  <thead>\n",
       "    <tr style=\"text-align: right;\">\n",
       "      <th></th>\n",
       "      <th>question</th>\n",
       "      <th>answer</th>\n",
       "      <th>input</th>\n",
       "    </tr>\n",
       "  </thead>\n",
       "  <tbody>\n",
       "    <tr>\n",
       "      <th>0</th>\n",
       "      <td>How to diagnose Konigsmark Knox Hussels syndro...</td>\n",
       "      <td>Is genetic testing available for Konigsmark Kn...</td>\n",
       "      <td>MedQuAD Super Expert</td>\n",
       "    </tr>\n",
       "    <tr>\n",
       "      <th>1</th>\n",
       "      <td>What are the genetic changes related to SADDAN ?</td>\n",
       "      <td>Mutations in the FGFR3 gene cause SADDAN. The ...</td>\n",
       "      <td>MedQuAD Super Expert</td>\n",
       "    </tr>\n",
       "    <tr>\n",
       "      <th>2</th>\n",
       "      <td>What are the treatments for mal de Meleda ?</td>\n",
       "      <td>These resources address the diagnosis or manag...</td>\n",
       "      <td>MedQuAD Super Expert</td>\n",
       "    </tr>\n",
       "    <tr>\n",
       "      <th>3</th>\n",
       "      <td>What are the treatments for systemic lupus ery...</td>\n",
       "      <td>These resources address the diagnosis or manag...</td>\n",
       "      <td>MedQuAD Super Expert</td>\n",
       "    </tr>\n",
       "    <tr>\n",
       "      <th>4</th>\n",
       "      <td>What are the treatments for hypochondroplasia ?</td>\n",
       "      <td>These resources address the diagnosis or manag...</td>\n",
       "      <td>MedQuAD Super Expert</td>\n",
       "    </tr>\n",
       "  </tbody>\n",
       "</table>\n",
       "</div>"
      ],
      "text/plain": [
       "                                            question  \\\n",
       "0  How to diagnose Konigsmark Knox Hussels syndro...   \n",
       "1   What are the genetic changes related to SADDAN ?   \n",
       "2        What are the treatments for mal de Meleda ?   \n",
       "3  What are the treatments for systemic lupus ery...   \n",
       "4    What are the treatments for hypochondroplasia ?   \n",
       "\n",
       "                                              answer                 input  \n",
       "0  Is genetic testing available for Konigsmark Kn...  MedQuAD Super Expert  \n",
       "1  Mutations in the FGFR3 gene cause SADDAN. The ...  MedQuAD Super Expert  \n",
       "2  These resources address the diagnosis or manag...  MedQuAD Super Expert  \n",
       "3  These resources address the diagnosis or manag...  MedQuAD Super Expert  \n",
       "4  These resources address the diagnosis or manag...  MedQuAD Super Expert  "
      ]
     },
     "execution_count": 5,
     "metadata": {},
     "output_type": "execute_result"
    }
   ],
   "source": [
    "data_train = pd.read_json(f\"{dir_root}qaa_train.json\")\n",
    "data_train = data_train.reset_index(drop=True)\n",
    "data_train = data_train.rename(columns={\"output\" : \"answer\", \"instruction\" : \"question\"})\n",
    "data_train.info()\n",
    "data_train.head()"
   ]
  },
  {
   "cell_type": "code",
   "execution_count": 6,
   "id": "eeb6df77-6515-433c-bc55-707ba3446357",
   "metadata": {},
   "outputs": [
    {
     "name": "stderr",
     "output_type": "stream",
     "text": [
      "/opt/conda/envs/domaine/lib/python3.10/site-packages/transformers/tokenization_utils_base.py:1617: FutureWarning: `clean_up_tokenization_spaces` was not set. It will be set to `True` by default. This behavior will be deprecated in transformers v4.45, and will be then set to `False` by default. For more details check this issue: https://github.com/huggingface/transformers/issues/31884\n",
      "  warnings.warn(\n"
     ]
    }
   ],
   "source": [
    "model = SentenceTransformer('sentence-transformers/all-MiniLM-L6-v2')"
   ]
  },
  {
   "cell_type": "markdown",
   "id": "8b782e3a-c0b3-4b1a-8e7a-41350975c2a8",
   "metadata": {},
   "source": [
    "## Embedding the sentences"
   ]
  },
  {
   "cell_type": "code",
   "execution_count": 7,
   "id": "5af2b858-fd60-4389-ad24-ad30d1a11252",
   "metadata": {},
   "outputs": [
    {
     "name": "stderr",
     "output_type": "stream",
     "text": [
      "100% 7871/7871 [00:00<00:00, 11263.21it/s]\n",
      "100% 6292/6292 [00:00<00:00, 11702.42it/s]"
     ]
    },
    {
     "name": "stdout",
     "output_type": "stream",
     "text": [
      "<class 'pandas.core.frame.DataFrame'>\n",
      "Index: 32310 entries, 0 to 32419\n",
      "Data columns (total 3 columns):\n",
      " #   Column     Non-Null Count  Dtype \n",
      "---  ------     --------------  ----- \n",
      " 0   sentence   32310 non-null  object\n",
      " 1   sentences  32310 non-null  object\n",
      " 2   wc         32310 non-null  int64 \n",
      "dtypes: int64(1), object(2)\n",
      "memory usage: 1009.7+ KB\n",
      "None\n",
      "<class 'pandas.core.frame.DataFrame'>\n",
      "Index: 25851 entries, 0 to 25936\n",
      "Data columns (total 3 columns):\n",
      " #   Column     Non-Null Count  Dtype \n",
      "---  ------     --------------  ----- \n",
      " 0   sentence   25851 non-null  object\n",
      " 1   sentences  25851 non-null  object\n",
      " 2   wc         25851 non-null  int64 \n",
      "dtypes: int64(1), object(2)\n",
      "memory usage: 807.8+ KB\n",
      "None\n"
     ]
    },
    {
     "name": "stderr",
     "output_type": "stream",
     "text": [
      "\n"
     ]
    }
   ],
   "source": [
    "def generate_sentences(data):\n",
    "    sentences = []\n",
    "    for i in tqdm(range(len(data))):\n",
    "        tmp = sent_tokenize(data[\"answer\"].values[i])\n",
    "        ls = len(tmp)\n",
    "        sentences += tmp\n",
    "    sentences = pd.DataFrame({\n",
    "        \"sentence\" : sentences\n",
    "    })\n",
    "    sentences[\"sentences\"] = sentences[\"sentence\"].apply(lambda x: x.strip())\n",
    "    sentences[\"wc\"] = sentences[\"sentence\"].apply(lambda x: len(x.split(\" \")))\n",
    "    sentences = sentences[(sentences[\"wc\"] >= 3)]\n",
    "    sentences.reset_index()\n",
    "    return sentences\n",
    "\n",
    "data_sentences = generate_sentences(data)\n",
    "data_train_sentences = generate_sentences(data_train)\n",
    "\n",
    "print(data_sentences.info())\n",
    "print(data_train_sentences.info())"
   ]
  },
  {
   "cell_type": "code",
   "execution_count": 8,
   "id": "b92522c0-206d-40df-be70-ede7418f02af",
   "metadata": {},
   "outputs": [
    {
     "data": {
      "text/html": [
       "<div>\n",
       "<style scoped>\n",
       "    .dataframe tbody tr th:only-of-type {\n",
       "        vertical-align: middle;\n",
       "    }\n",
       "\n",
       "    .dataframe tbody tr th {\n",
       "        vertical-align: top;\n",
       "    }\n",
       "\n",
       "    .dataframe thead th {\n",
       "        text-align: right;\n",
       "    }\n",
       "</style>\n",
       "<table border=\"1\" class=\"dataframe\">\n",
       "  <thead>\n",
       "    <tr style=\"text-align: right;\">\n",
       "      <th></th>\n",
       "      <th>sentences</th>\n",
       "    </tr>\n",
       "  </thead>\n",
       "  <tbody>\n",
       "    <tr>\n",
       "      <th>0</th>\n",
       "      <td>Keratoderma with woolly hair is rare; its prev...</td>\n",
       "    </tr>\n",
       "    <tr>\n",
       "      <th>1</th>\n",
       "      <td>Type I (Naxos disease) was first described in ...</td>\n",
       "    </tr>\n",
       "    <tr>\n",
       "      <th>2</th>\n",
       "      <td>Since then, affected families have been found ...</td>\n",
       "    </tr>\n",
       "    <tr>\n",
       "      <th>3</th>\n",
       "      <td>This form of the condition may affect up to 1 ...</td>\n",
       "    </tr>\n",
       "    <tr>\n",
       "      <th>4</th>\n",
       "      <td>Type II (Carvajal syndrome), type III, and typ...</td>\n",
       "    </tr>\n",
       "  </tbody>\n",
       "</table>\n",
       "</div>"
      ],
      "text/plain": [
       "                                           sentences\n",
       "0  Keratoderma with woolly hair is rare; its prev...\n",
       "1  Type I (Naxos disease) was first described in ...\n",
       "2  Since then, affected families have been found ...\n",
       "3  This form of the condition may affect up to 1 ...\n",
       "4  Type II (Carvajal syndrome), type III, and typ..."
      ]
     },
     "execution_count": 8,
     "metadata": {},
     "output_type": "execute_result"
    }
   ],
   "source": [
    "data_sentences = data_sentences.drop(columns=[\"sentence\",\"wc\"])\n",
    "data_sentences.to_json(f\"{dir_root}sentences.json\",orient=\"records\")\n",
    "data_sentences.head()"
   ]
  },
  {
   "cell_type": "code",
   "execution_count": 9,
   "id": "9611cf64-87e1-4dfd-9469-d4ad402ffa00",
   "metadata": {},
   "outputs": [
    {
     "data": {
      "text/html": [
       "<div>\n",
       "<style scoped>\n",
       "    .dataframe tbody tr th:only-of-type {\n",
       "        vertical-align: middle;\n",
       "    }\n",
       "\n",
       "    .dataframe tbody tr th {\n",
       "        vertical-align: top;\n",
       "    }\n",
       "\n",
       "    .dataframe thead th {\n",
       "        text-align: right;\n",
       "    }\n",
       "</style>\n",
       "<table border=\"1\" class=\"dataframe\">\n",
       "  <thead>\n",
       "    <tr style=\"text-align: right;\">\n",
       "      <th></th>\n",
       "      <th>sentences</th>\n",
       "    </tr>\n",
       "  </thead>\n",
       "  <tbody>\n",
       "    <tr>\n",
       "      <th>0</th>\n",
       "      <td>Is genetic testing available for Konigsmark Kn...</td>\n",
       "    </tr>\n",
       "    <tr>\n",
       "      <th>1</th>\n",
       "      <td>GeneTests lists the names of laboratories that...</td>\n",
       "    </tr>\n",
       "    <tr>\n",
       "      <th>2</th>\n",
       "      <td>To view the contact information for the clinic...</td>\n",
       "    </tr>\n",
       "    <tr>\n",
       "      <th>3</th>\n",
       "      <td>Please note:  Most of the laboratories listed ...</td>\n",
       "    </tr>\n",
       "    <tr>\n",
       "      <th>4</th>\n",
       "      <td>Below, we provide a list of online resources t...</td>\n",
       "    </tr>\n",
       "  </tbody>\n",
       "</table>\n",
       "</div>"
      ],
      "text/plain": [
       "                                           sentences\n",
       "0  Is genetic testing available for Konigsmark Kn...\n",
       "1  GeneTests lists the names of laboratories that...\n",
       "2  To view the contact information for the clinic...\n",
       "3  Please note:  Most of the laboratories listed ...\n",
       "4  Below, we provide a list of online resources t..."
      ]
     },
     "execution_count": 9,
     "metadata": {},
     "output_type": "execute_result"
    }
   ],
   "source": [
    "data_train_sentences = data_train_sentences.drop(columns=[\"sentence\",\"wc\"])\n",
    "data_train_sentences.to_json(f\"{dir_root}sentences_train.json\",orient=\"records\")\n",
    "data_train_sentences.head()"
   ]
  },
  {
   "cell_type": "code",
   "execution_count": 10,
   "id": "cce2d8dc-8047-4bd7-866d-0b4610a2ff95",
   "metadata": {},
   "outputs": [
    {
     "data": {
      "application/vnd.jupyter.widget-view+json": {
       "model_id": "0fb68670e13a45c7919e6977f7c7e350",
       "version_major": 2,
       "version_minor": 0
      },
      "text/plain": [
       "Batches:   0%|          | 0/1010 [00:00<?, ?it/s]"
      ]
     },
     "metadata": {},
     "output_type": "display_data"
    },
    {
     "data": {
      "text/plain": [
       "32310"
      ]
     },
     "execution_count": 10,
     "metadata": {},
     "output_type": "execute_result"
    }
   ],
   "source": [
    "embbeded_vectors = model.encode(data_sentences[\"sentences\"].values, show_progress_bar=True)\n",
    "\n",
    "with open(f\"{dir_root}sentences.emb\", \"wb\") as f:\n",
    "    np.save(f, embbeded_vectors)\n",
    "    \n",
    "len(embbeded_vectors)"
   ]
  },
  {
   "cell_type": "code",
   "execution_count": 11,
   "id": "d017d483-0cdf-433b-b7a2-dc0996bfb5ae",
   "metadata": {},
   "outputs": [
    {
     "data": {
      "application/vnd.jupyter.widget-view+json": {
       "model_id": "5fa0bd19bcff4642b4c416420ece5224",
       "version_major": 2,
       "version_minor": 0
      },
      "text/plain": [
       "Batches:   0%|          | 0/808 [00:00<?, ?it/s]"
      ]
     },
     "metadata": {},
     "output_type": "display_data"
    },
    {
     "data": {
      "text/plain": [
       "25851"
      ]
     },
     "execution_count": 11,
     "metadata": {},
     "output_type": "execute_result"
    }
   ],
   "source": [
    "embbeded_vectors_train = model.encode(data_train_sentences[\"sentences\"].values, show_progress_bar=True)\n",
    "\n",
    "with open(f\"{dir_root}sentences_train.emb\", \"wb\") as f:\n",
    "    np.save(f, embbeded_vectors_train)\n",
    "    \n",
    "len(embbeded_vectors_train)"
   ]
  },
  {
   "cell_type": "markdown",
   "id": "d291db4a-19f8-4f9f-b16c-21515f50547e",
   "metadata": {},
   "source": [
    "## Embeding the questions"
   ]
  },
  {
   "cell_type": "code",
   "execution_count": 12,
   "id": "e5b9b366-340e-4f2f-bae7-c6414908dd74",
   "metadata": {},
   "outputs": [
    {
     "name": "stderr",
     "output_type": "stream",
     "text": [
      "100% 7871/7871 [00:00<00:00, 227002.08it/s]\n",
      "100% 7871/7871 [00:00<00:00, 1907845.98it/s]"
     ]
    },
    {
     "name": "stdout",
     "output_type": "stream",
     "text": [
      "7871 7870 7871\n"
     ]
    },
    {
     "name": "stderr",
     "output_type": "stream",
     "text": [
      "\n"
     ]
    },
    {
     "data": {
      "application/vnd.jupyter.widget-view+json": {
       "model_id": "969aedb274b241e79f174b2eead81d18",
       "version_major": 2,
       "version_minor": 0
      },
      "text/plain": [
       "Batches:   0%|          | 0/246 [00:00<?, ?it/s]"
      ]
     },
     "metadata": {},
     "output_type": "display_data"
    },
    {
     "name": "stdout",
     "output_type": "stream",
     "text": [
      "7871\n"
     ]
    },
    {
     "name": "stderr",
     "output_type": "stream",
     "text": [
      "100% 6292/6292 [00:00<00:00, 228165.73it/s]\n",
      "100% 6292/6292 [00:00<00:00, 1852359.15it/s]"
     ]
    },
    {
     "name": "stdout",
     "output_type": "stream",
     "text": [
      "6292 6291 6292\n"
     ]
    },
    {
     "name": "stderr",
     "output_type": "stream",
     "text": [
      "\n"
     ]
    },
    {
     "data": {
      "application/vnd.jupyter.widget-view+json": {
       "model_id": "071fb6fdd7554ff0bc14637ebb32672d",
       "version_major": 2,
       "version_minor": 0
      },
      "text/plain": [
       "Batches:   0%|          | 0/197 [00:00<?, ?it/s]"
      ]
     },
     "metadata": {},
     "output_type": "display_data"
    },
    {
     "name": "stdout",
     "output_type": "stream",
     "text": [
      "6292\n"
     ]
    }
   ],
   "source": [
    "def emb_question(data, out):\n",
    "    indexes = []\n",
    "    questions = []\n",
    "    \n",
    "    for i in tqdm(range(len(data[\"question\"].values))):\n",
    "        indexes.append(i)\n",
    "        questions.append(data[\"question\"].values[i])\n",
    "    \n",
    "    with open(f\"{dir_root}{out}.idx\", 'w') as f:\n",
    "        for item in tqdm(indexes):\n",
    "            f.write(f\"{str(item)}\\n\")\n",
    "            \n",
    "    print(len(indexes), max(indexes), len(questions))\n",
    "    \n",
    "    embbeded_vectors = model.encode(questions, show_progress_bar=True)\n",
    "    \n",
    "    print(len(embbeded_vectors))\n",
    "    \n",
    "    with open(f\"{dir_root}{out}.emb\", \"wb\") as f:\n",
    "        np.save(f, embbeded_vectors)\n",
    "\n",
    "emb_question(data, \"qaa_q\")\n",
    "emb_question(data_train, \"qaa_q_train\")"
   ]
  },
  {
   "cell_type": "code",
   "execution_count": 5,
   "id": "42133ac7-3d42-4947-8dad-cef59960176b",
   "metadata": {},
   "outputs": [],
   "source": [
    "data.to_json(f\"{dir_root}qaa_q.json\",orient=\"records\")"
   ]
  },
  {
   "cell_type": "markdown",
   "id": "a741c72c-a734-4e2c-afa3-611e4ef1616d",
   "metadata": {},
   "source": [
    "## To Embedding Projector"
   ]
  },
  {
   "cell_type": "code",
   "execution_count": 35,
   "id": "fad471e3-4019-4717-8ed1-e87aff3292bc",
   "metadata": {},
   "outputs": [],
   "source": [
    "with open(f\"{dir_root}qaa_emb.tsv\", \"w\") as f:\n",
    "    np.savetxt(f, embbeded_vectors, delimiter='\\t')"
   ]
  },
  {
   "cell_type": "code",
   "execution_count": 36,
   "id": "3427d3a2-0c23-4210-bc67-48d31349bf81",
   "metadata": {},
   "outputs": [
    {
     "name": "stderr",
     "output_type": "stream",
     "text": [
      "100% 650232/650232 [00:00<00:00, 2690709.32it/s]\n"
     ]
    }
   ],
   "source": [
    "with open(f\"{dir_root}qaa_meta.tsv\", \"w\") as f:\n",
    "    for q in tqdm(questions):\n",
    "        f.write(f\"{q}\\n\")"
   ]
  }
 ],
 "metadata": {
  "kernelspec": {
   "display_name": "Python [conda env:domaine]",
   "language": "python",
   "name": "conda-env-domaine-py"
  },
  "language_info": {
   "codemirror_mode": {
    "name": "ipython",
    "version": 3
   },
   "file_extension": ".py",
   "mimetype": "text/x-python",
   "name": "python",
   "nbconvert_exporter": "python",
   "pygments_lexer": "ipython3",
   "version": "3.10.15"
  }
 },
 "nbformat": 4,
 "nbformat_minor": 5
}
