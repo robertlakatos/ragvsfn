{
 "cells": [
  {
   "cell_type": "code",
   "execution_count": null,
   "id": "b8d2555d-8cb2-4f3a-a626-81b899e1d86c",
   "metadata": {},
   "outputs": [],
   "source": [
    "import json\n",
    "import pandas as pd\n",
    "# import numpy as np\n",
    "\n",
    "from tqdm import tqdm\n",
    "from random import sample \n",
    "from random import randint\n",
    "from datasets import load_dataset\n",
    "from transformers import Trainer\n",
    "from transformers import AutoTokenizer\n",
    "from transformers import TrainingArguments\n",
    "from transformers import AutoModelForCausalLM\n",
    "from transformers import DataCollatorForLanguageModeling"
   ]
  },
  {
   "cell_type": "code",
   "execution_count": null,
   "id": "a3d0e9c2-a8b9-4ba4-9ade-09195140c9e5",
   "metadata": {},
   "outputs": [],
   "source": [
    "dir_root = \"Data/\""
   ]
  },
  {
   "cell_type": "markdown",
   "id": "72f4ba08-d7ec-4f70-b248-d546d3c21a0f",
   "metadata": {},
   "source": [
    "## Train and Test"
   ]
  },
  {
   "cell_type": "code",
   "execution_count": null,
   "id": "acd4eb58-0f29-4bf6-a9dc-7bdc53fd04e6",
   "metadata": {
    "scrolled": true
   },
   "outputs": [],
   "source": [
    "with open(f\"{dir_root}qaa.json\",\"r\") as f:\n",
    "    data = json.load(f)\n",
    "len(data)"
   ]
  },
  {
   "cell_type": "code",
   "execution_count": null,
   "id": "9f3c967f-7903-43ae-a245-f32c959f412a",
   "metadata": {},
   "outputs": [],
   "source": [
    "count_of_question = sum(len(item[\"questions\"]) for item  in data)\n",
    "count_of_test = int(count_of_question * 0.2)\n",
    "count_of_question, count_of_test"
   ]
  },
  {
   "cell_type": "code",
   "execution_count": null,
   "id": "805f9009-5a24-4588-9837-82d467c0efca",
   "metadata": {
    "jupyter": {
     "source_hidden": true
    }
   },
   "outputs": [],
   "source": [
    "pd.DataFrame([len(item[\"questions\"]) for item  in data]).describe()"
   ]
  },
  {
   "cell_type": "markdown",
   "id": "6f9950aa-4874-4e95-87ea-9175d4e85ef2",
   "metadata": {},
   "source": [
    "### Alpca Style"
   ]
  },
  {
   "cell_type": "code",
   "execution_count": null,
   "id": "154bbf0d-a5f5-4570-9b92-35a284dafdee",
   "metadata": {
    "collapsed": true,
    "jupyter": {
     "outputs_hidden": true,
     "source_hidden": true
    }
   },
   "outputs": [],
   "source": [
    "test_input = []\n",
    "test_output = []\n",
    "test_instruction =  []\n",
    "for i in range(count_of_test):\n",
    "    if len(data[i][\"questions\"]) > 1:\n",
    "        test_instruction.append(data[i][\"questions\"][-1])\n",
    "        test_output.append(data[i][\"answare\"])\n",
    "        test_input.append(data[i][\"name\"])\n",
    "\n",
    "pd.DataFrame({\"instruction\" : test_instruction, \"output\" : test_output, \"input\" : test_input}).to_json(f\"{dir_root}qaa_test.json\", orient=\"records\")\n",
    "len(test_input), len(test_output), len(test_instruction), count_of_test"
   ]
  },
  {
   "cell_type": "code",
   "execution_count": null,
   "id": "b35bd20f-597e-4b0f-8b16-5c85ad549959",
   "metadata": {
    "jupyter": {
     "source_hidden": true
    }
   },
   "outputs": [],
   "source": [
    "train_input = []\n",
    "train_output = []\n",
    "train_instruction =  []\n",
    "for i in range(len(data)):\n",
    "    for j in range(len(data[i][\"questions\"][:-1])):\n",
    "        train_instruction.append(data[i][\"questions\"][j])\n",
    "        train_output.append(data[i][\"answare\"])\n",
    "        train_input.append(data[i][\"name\"])\n",
    "\n",
    "pd.DataFrame({\"instruction\" : train_instruction, \"output\" : train_output, \"input\" : train_input}).to_json(f\"{dir_root}qaa_train.json\", orient=\"records\")\n",
    "len(train_input), len(train_output), len(train_instruction)"
   ]
  },
  {
   "cell_type": "code",
   "execution_count": null,
   "id": "330100cf-aa83-47a0-8718-dbfc377d9064",
   "metadata": {},
   "outputs": [],
   "source": [
    "len(train_input) + len(test_input), count_of_question"
   ]
  },
  {
   "cell_type": "markdown",
   "id": "dcd47a83-5cd7-4e23-bd58-52e3bb5693ce",
   "metadata": {},
   "source": [
    "## Prepair Train"
   ]
  },
  {
   "cell_type": "code",
   "execution_count": null,
   "id": "2548b5d4-a46a-417f-bc34-5f2368e8b361",
   "metadata": {},
   "outputs": [],
   "source": [
    "def generate_prompt(data_point):\n",
    "    # taken from https://github.com/tloen/alpaca-lora\n",
    "    if data_point[\"instruction\"]:\n",
    "        return f\"\"\"Below is an instruction that describes a task, paired with an input that provides further context. Write a response that appropriately completes the request.\n",
    "        \n",
    "### Instruction:\n",
    "{data_point[\"instruction\"]}\n",
    "\n",
    "### Input:\n",
    "{data_point[\"input\"]}\n",
    "\n",
    "### Response:\n",
    "{data_point[\"output\"]}\"\"\"\n",
    "    else:\n",
    "        return f\"\"\"Below is an instruction that describes a task. Write a response that appropriately completes the request.\n",
    "\n",
    "### Instruction:\n",
    "{data_point[\"instruction\"]}\n",
    "\n",
    "### Response:\n",
    "{data_point[\"output\"]}\"\"\""
   ]
  },
  {
   "cell_type": "code",
   "execution_count": null,
   "id": "d3b7728c-fa94-4d02-9f31-38e23a7a1e3a",
   "metadata": {
    "jupyter": {
     "source_hidden": true
    }
   },
   "outputs": [],
   "source": [
    "def generate_prompt_context(data_point):\n",
    "    return f\"\"\"[INST]Below is an instruction that describes a task! Write a response that appropriately completes the request. To answer the instruction, use the context if available!\n",
    "### Instruction: \n",
    "{data_point[\"instruction\"]}\n",
    "\n",
    "### Input:\n",
    "{data_point[\"input\"]}\n",
    "\n",
    "### Context: \n",
    "{data_point[\"context\"]}\n",
    "[/INST]\n",
    "\n",
    "### Response:\n",
    "{data_point[\"output\"]}\n",
    "\"\"\""
   ]
  },
  {
   "cell_type": "code",
   "execution_count": null,
   "id": "9af2e400-5317-4f65-a6ef-70545486f830",
   "metadata": {},
   "outputs": [],
   "source": [
    "generate_prompt(train_base[0])"
   ]
  },
  {
   "cell_type": "code",
   "execution_count": null,
   "id": "88958eea-2d15-4f2c-bfe6-d9de36ceef2d",
   "metadata": {},
   "outputs": [],
   "source": [
    "def train(model, version, data_files, gp):\n",
    "\n",
    "    output_dir = f\"Models/{version}/\"\n",
    "    \n",
    "    tokenizer = AutoTokenizer.from_pretrained(model)\n",
    "    tokenizer.pad_token_id = tokenizer.eos_token_id\n",
    "    print(\"Loaded: TOKENIZER\")\n",
    "\n",
    "    data = load_dataset(\"json\", data_files=data_files)\n",
    "    # data = data.map(lambda data_point: {\"prompt\": tokenizer(gp(data_point))})    \n",
    "    data = data.shuffle().map(\n",
    "        lambda data_point: tokenizer(\n",
    "            gp(data_point),\n",
    "            truncation=True,\n",
    "            max_length=256,\n",
    "            padding=\"max_length\",\n",
    "        )\n",
    "    )\n",
    "    print(\"Loaded: DATA\")\n",
    "\n",
    "    model = AutoModelForCausalLM.from_pretrained(model, device_map=\"auto\") \n",
    "    print(\"Loaded: MODEL\")\n",
    "\n",
    "    train_arguments = TrainingArguments(\n",
    "        # per_device_train_batch_size=4,\n",
    "        # gradient_accumulation_steps=16,\n",
    "        per_device_train_batch_size=4,\n",
    "        gradient_accumulation_steps=16,\n",
    "        warmup_steps=2,\n",
    "        num_train_epochs=5, # paper uses 3\n",
    "        learning_rate=2e-4,\n",
    "        logging_steps=1,\n",
    "        output_dir=output_dir,\n",
    "        evaluation_strategy=\"epoch\",\n",
    "        save_strategy=\"epoch\",\n",
    "        save_total_limit=3)\n",
    "\n",
    "    trainer = Trainer(\n",
    "        model=model,\n",
    "        train_dataset=data[\"train\"],\n",
    "        eval_dataset=data[\"test\"],\n",
    "        args=train_arguments,\n",
    "        data_collator=DataCollatorForLanguageModeling(tokenizer, mlm=False),\n",
    "    )\n",
    "    print(\"Loaded: TRAINER\")\n",
    "\n",
    "    model.config.use_cache = False\n",
    "    trainer.train(resume_from_checkpoint=False)\n",
    "\n",
    "    model.save_pretrained(f\"{output_dir}endpoint\")\n",
    "    print(\"saved: MODEL\")\n",
    "    \n",
    "    log_history = pd.DataFrame(trainer.state.log_history)\n",
    "    log_history.to_csv(f\"{dir_root}log_train_history_{version}.csv\")\n",
    "    print(\"saved: HISTORY\")"
   ]
  },
  {
   "cell_type": "markdown",
   "id": "0a952596-bfff-476a-9f40-ddc3281fb206",
   "metadata": {},
   "source": [
    "## GPTJ-B"
   ]
  },
  {
   "cell_type": "code",
   "execution_count": null,
   "id": "95c84195-406e-4e8b-8b01-bee248b24060",
   "metadata": {},
   "outputs": [],
   "source": [
    "train(model = \"EleutherAI/gpt-j-6B\",\n",
    "      version = \"gptj-6b-v20231214\",\n",
    "      data_files = {\"train\" : f\"{dir_root}qaa_train.json\", \"test\" : f\"{dir_root}qaa_test.json\"},\n",
    "      gp=generate_prompt)"
   ]
  },
  {
   "cell_type": "markdown",
   "id": "211a31b7-5dc5-4b25-9dca-7ec29b23f450",
   "metadata": {},
   "source": [
    "## opt-6.7b"
   ]
  },
  {
   "cell_type": "code",
   "execution_count": null,
   "id": "889710f6-8cb5-4152-8a8a-022483605813",
   "metadata": {},
   "outputs": [],
   "source": [
    "train(model = \"facebook/opt-6.7b\",\n",
    "      version = \"opt-6.7b-v20231214\",\n",
    "      data_files = {\"train\" : f\"{dir_root}qaa_train.json\", \"test\" : f\"{dir_root}qaa_test.json\"},\n",
    "      gp=generate_prompt)"
   ]
  },
  {
   "cell_type": "markdown",
   "id": "7caee526-7957-4993-92c0-e9f57bf35810",
   "metadata": {},
   "source": [
    "## Llama-7b"
   ]
  },
  {
   "cell_type": "code",
   "execution_count": null,
   "id": "4b6f165d-fa75-4c47-9fe5-9e43fed2687c",
   "metadata": {},
   "outputs": [],
   "source": [
    "train(model = \"huggyllama/llama-7b\",\n",
    "      version = \"llama-7b-2-v20231217\",\n",
    "      data_files = {\"train\" : f\"{dir_root}qaa_train.json\", \"test\" : f\"{dir_root}qaa_test.json\"},\n",
    "      gp = generate_prompt)"
   ]
  },
  {
   "cell_type": "code",
   "execution_count": null,
   "id": "d1e09232-ce1f-41c2-ba2f-7b1d599c82f8",
   "metadata": {},
   "outputs": [],
   "source": [
    "train(model = \"huggyllama/llama-7b\",\n",
    "      version = \"llama-7b-context-v20231217\",\n",
    "      data_files = {\"train\" : f\"{dir_root}qaa_train_context.json\", \"test\" : f\"{dir_root}qaa_test_context.json\"},\n",
    "      gp = generate_prompt_context)"
   ]
  },
  {
   "cell_type": "markdown",
   "id": "e9e5704f-34d1-4a66-aca3-076678ba8133",
   "metadata": {},
   "source": [
    "## Llama-2-7b"
   ]
  },
  {
   "cell_type": "code",
   "execution_count": null,
   "id": "ffb3f42b-d177-4f75-a5f2-1678bf794274",
   "metadata": {},
   "outputs": [],
   "source": [
    "from huggingface_hub import notebook_login\n",
    "\n",
    "notebook_login()"
   ]
  },
  {
   "cell_type": "code",
   "execution_count": null,
   "id": "e781f50b-84b4-4fa3-aef3-83b0bbdcc36e",
   "metadata": {},
   "outputs": [],
   "source": [
    "train(model = \"meta-llama/Llama-2-7b-hf\",\n",
    "      version = \"llama-2-7b-hf-v20231217\",\n",
    "      data_files = {\"train\" : f\"{dir_root}qaa_train.json\", \"test\" : f\"{dir_root}qaa_test.json\"},\n",
    "      gp=generate_prompt)"
   ]
  },
  {
   "cell_type": "markdown",
   "id": "1af6f031-4ef7-462d-8706-b3ca36403ef9",
   "metadata": {},
   "source": [
    "## Llama-2-7b-hf with context"
   ]
  },
  {
   "cell_type": "code",
   "execution_count": null,
   "id": "02135ef8-c7e4-4180-a576-727bb4949eeb",
   "metadata": {},
   "outputs": [],
   "source": [
    "train(model = \"meta-llama/Llama-2-7b-hf\",\n",
    "      version = \"llama-2-7b-hf-context-v20231218\",\n",
    "      data_files = {\"train\" : f\"{dir_root}qaa_train_context.json\", \"test\" : f\"{dir_root}qaa_test_context.json\"},\n",
    "      gp = generate_prompt_context)"
   ]
  }
 ],
 "metadata": {
  "kernelspec": {
   "display_name": "Python [conda env:SuperExpert]",
   "language": "python",
   "name": "conda-env-SuperExpert-py"
  },
  "language_info": {
   "codemirror_mode": {
    "name": "ipython",
    "version": 3
   },
   "file_extension": ".py",
   "mimetype": "text/x-python",
   "name": "python",
   "nbconvert_exporter": "python",
   "pygments_lexer": "ipython3",
   "version": "3.10.12"
  }
 },
 "nbformat": 4,
 "nbformat_minor": 5
}
