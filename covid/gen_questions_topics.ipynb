{
 "cells": [
  {
   "cell_type": "code",
   "execution_count": null,
   "id": "1d3cfb80-eae7-4707-9c22-3290ba635225",
   "metadata": {
    "editable": true,
    "slideshow": {
     "slide_type": ""
    },
    "tags": []
   },
   "outputs": [],
   "source": [
    "import torch\n",
    "import pandas as pd\n",
    "from tqdm import tqdm\n",
    "from transformers import AutoTokenizer\n",
    "from transformers import AutoModelForSeq2SeqLM"
   ]
  },
  {
   "cell_type": "code",
   "execution_count": null,
   "id": "9c9a2d19",
   "metadata": {},
   "outputs": [],
   "source": [
    "dir_root = \"Data/\"\n",
    "name = \"Corn Super Expert\"\n",
    "output_qaa = f\"{dir_root}test_topic\"\n",
    "name, dir_root, output_qaa"
   ]
  },
  {
   "cell_type": "code",
   "execution_count": null,
   "id": "4ea93cf3-19d6-4726-b6f8-7e58fc6ae0b3",
   "metadata": {},
   "outputs": [],
   "source": [
    "df_text = pd.read_csv(f\"{dir_root}topic.csv\")\n",
    "df_text.head()\n",
    "df_text.info()"
   ]
  },
  {
   "cell_type": "code",
   "execution_count": null,
   "id": "4c18868f-127b-4f34-9a4c-9729ea0162e5",
   "metadata": {},
   "outputs": [],
   "source": [
    "model = AutoModelForSeq2SeqLM.from_pretrained(\"voidful/context-only-question-generator\").to(device)"
   ]
  },
  {
   "cell_type": "code",
   "execution_count": null,
   "id": "3cbac0e1-3a9a-449f-b998-3ac123f8ca86",
   "metadata": {},
   "outputs": [],
   "source": [
    "tokenizer = AutoTokenizer.from_pretrained(\"voidful/context-only-question-generator\")"
   ]
  },
  {
   "cell_type": "code",
   "execution_count": null,
   "id": "118fc519-540d-43a0-88e9-c46502a9c254",
   "metadata": {},
   "outputs": [],
   "source": [
    "def generate(number_of_questions, text, model, tokenizer, device):\n",
    "    inputs = tokenizer(\n",
    "        text, \n",
    "        max_length=256, \n",
    "        return_tensors=\"pt\"\n",
    "    ).to(device)\n",
    "\n",
    "    questions = []\n",
    "    for step in range(0,number_of_questions):\n",
    "        summary_ids = model.generate(\n",
    "            inputs[\"input_ids\"], \n",
    "            num_beams=2, \n",
    "            min_length=0, \n",
    "            max_length=36, \n",
    "            do_sample=True, \n",
    "            num_return_sequences=1, \n",
    "            no_repeat_ngram_size=3, \n",
    "            temperature=0.8)\n",
    "\n",
    "        question = tokenizer.batch_decode(\n",
    "            summary_ids, \n",
    "            skip_special_tokens=True, \n",
    "            clean_up_tokenization_spaces=False)\n",
    "        \n",
    "        questions.append(question[0])\n",
    "\n",
    "    return questions"
   ]
  },
  {
   "cell_type": "code",
   "execution_count": null,
   "id": "3c377d7b-5da6-4db2-af48-6d408bf1c919",
   "metadata": {},
   "outputs": [],
   "source": [
    "step_ratio = 1.0\n",
    "step = int(len(df_text[\"text\"].values)*step_ratio)\n",
    "step"
   ]
  },
  {
   "cell_type": "code",
   "execution_count": null,
   "id": "02184cc6-72be-4f98-ac22-bdeb4ae6e1f1",
   "metadata": {},
   "outputs": [],
   "source": [
    "pbar = tqdm(range(0, len(df_text[\"text\"].values)))\n",
    "qaa = []\n",
    "\n",
    "for i in pbar:    \n",
    "    text = df_text[\"text\"].values[i].strip()\n",
    "    \n",
    "    questions = generate(\n",
    "        number_of_questions = 1,\n",
    "        text = text,\n",
    "        model = model,\n",
    "        tokenizer = tokenizer,\n",
    "        device = device\n",
    "    )\n",
    "\n",
    "    for question in questions:\n",
    "        qaa.append({\n",
    "            \"instruction\" : question.strip(), \n",
    "            \"input\" : name, \n",
    "            \"output\" : text})\n",
    "\n",
    "print(len(qaa))"
   ]
  },
  {
   "cell_type": "code",
   "execution_count": null,
   "id": "e54eb639-bfeb-4643-a67e-deda47a5c4c8",
   "metadata": {},
   "outputs": [],
   "source": [
    "df_qaa_duplicated = pd.DataFrame(qaa)\n",
    "df_qaa_duplicated = df_qaa_duplicated.drop_duplicates()\n",
    "df_qaa_duplicated.to_json(output_qaa + \".json\",orient=\"records\")\n",
    "df_qaa_duplicated"
   ]
  }
 ],
 "metadata": {
  "kernelspec": {
   "display_name": "Python [conda env:test]",
   "language": "python",
   "name": "conda-env-test-py"
  },
  "language_info": {
   "codemirror_mode": {
    "name": "ipython",
    "version": 3
   },
   "file_extension": ".py",
   "mimetype": "text/x-python",
   "name": "python",
   "nbconvert_exporter": "python",
   "pygments_lexer": "ipython3",
   "version": "3.10.13"
  }
 },
 "nbformat": 4,
 "nbformat_minor": 5
}
