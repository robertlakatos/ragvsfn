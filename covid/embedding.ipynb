{
 "cells": [
  {
   "cell_type": "code",
   "execution_count": 1,
   "id": "cc3651ad-3527-410f-8a12-8e110a3e75f6",
   "metadata": {},
   "outputs": [],
   "source": [
    "import json\n",
    "import numpy as np\n",
    "import pandas as pd\n",
    "from tqdm import tqdm\n",
    "from nltk.tokenize import sent_tokenize\n",
    "from sentence_transformers import SentenceTransformer, util"
   ]
  },
  {
   "cell_type": "code",
   "execution_count": 2,
   "id": "4a303c08-6b31-4718-ae03-d5c17da6cc11",
   "metadata": {},
   "outputs": [],
   "source": [
    "dir_root = \"Data/\""
   ]
  },
  {
   "cell_type": "code",
   "execution_count": 3,
   "id": "b0b12f21-26c8-453d-b3a5-7c24b4554885",
   "metadata": {},
   "outputs": [
    {
     "data": {
      "text/plain": [
       "18004"
      ]
     },
     "execution_count": 3,
     "metadata": {},
     "output_type": "execute_result"
    }
   ],
   "source": [
    "with open(f\"{dir_root}qaa.json\",\"r\") as f:\n",
    "    data = json.load(f)\n",
    "len(data)"
   ]
  },
  {
   "cell_type": "code",
   "execution_count": 4,
   "id": "921653c4-26bd-4b0d-9115-3373b12363a5",
   "metadata": {},
   "outputs": [],
   "source": [
    "model = SentenceTransformer('sentence-transformers/all-MiniLM-L6-v2')"
   ]
  },
  {
   "cell_type": "markdown",
   "id": "66d5e73b-4684-4f07-bd6b-4c4e3bd3d842",
   "metadata": {},
   "source": [
    "## Embedding the sentences"
   ]
  },
  {
   "cell_type": "code",
   "execution_count": 9,
   "id": "ba70d956-1376-4647-9706-b9462b9aef01",
   "metadata": {},
   "outputs": [
    {
     "name": "stderr",
     "output_type": "stream",
     "text": [
      "100% 18004/18004 [00:01<00:00, 12599.64it/s]\n"
     ]
    },
    {
     "data": {
      "text/html": [
       "<div>\n",
       "<style scoped>\n",
       "    .dataframe tbody tr th:only-of-type {\n",
       "        vertical-align: middle;\n",
       "    }\n",
       "\n",
       "    .dataframe tbody tr th {\n",
       "        vertical-align: top;\n",
       "    }\n",
       "\n",
       "    .dataframe thead th {\n",
       "        text-align: right;\n",
       "    }\n",
       "</style>\n",
       "<table border=\"1\" class=\"dataframe\">\n",
       "  <thead>\n",
       "    <tr style=\"text-align: right;\">\n",
       "      <th></th>\n",
       "      <th>sentence</th>\n",
       "      <th>title</th>\n",
       "      <th>cord_uid</th>\n",
       "      <th>pmc_json_files</th>\n",
       "      <th>arxiv_id</th>\n",
       "      <th>sentences</th>\n",
       "      <th>wc</th>\n",
       "    </tr>\n",
       "  </thead>\n",
       "  <tbody>\n",
       "    <tr>\n",
       "      <th>0</th>\n",
       "      <td>A prevalent symptom of Parkinson’s disease (PD...</td>\n",
       "      <td>On the emergence of a power law in the distrib...</td>\n",
       "      <td>hx8bnrsi</td>\n",
       "      <td>2004.12772</td>\n",
       "      <td>2004.12772</td>\n",
       "      <td>A prevalent symptom of Parkinson’s disease (PD...</td>\n",
       "      <td>124</td>\n",
       "    </tr>\n",
       "    <tr>\n",
       "      <th>1</th>\n",
       "      <td>The dataset consists of 1812 videos from 604 (...</td>\n",
       "      <td>On the emergence of a power law in the distrib...</td>\n",
       "      <td>hx8bnrsi</td>\n",
       "      <td>2004.12772</td>\n",
       "      <td>2004.12772</td>\n",
       "      <td>The dataset consists of 1812 videos from 604 (...</td>\n",
       "      <td>156</td>\n",
       "    </tr>\n",
       "    <tr>\n",
       "      <th>2</th>\n",
       "      <td>The participants without PD were recruited thr...</td>\n",
       "      <td>On the emergence of a power law in the distrib...</td>\n",
       "      <td>hx8bnrsi</td>\n",
       "      <td>2004.12772</td>\n",
       "      <td>2004.12772</td>\n",
       "      <td>The participants without PD were recruited thr...</td>\n",
       "      <td>13</td>\n",
       "    </tr>\n",
       "    <tr>\n",
       "      <th>3</th>\n",
       "      <td>These participants self-identified as not havi...</td>\n",
       "      <td>On the emergence of a power law in the distrib...</td>\n",
       "      <td>hx8bnrsi</td>\n",
       "      <td>2004.12772</td>\n",
       "      <td>2004.12772</td>\n",
       "      <td>These participants self-identified as not havi...</td>\n",
       "      <td>7</td>\n",
       "    </tr>\n",
       "    <tr>\n",
       "      <th>4</th>\n",
       "      <td>The participants with PD were recruited by ema...</td>\n",
       "      <td>On the emergence of a power law in the distrib...</td>\n",
       "      <td>hx8bnrsi</td>\n",
       "      <td>2004.12772</td>\n",
       "      <td>2004.12772</td>\n",
       "      <td>The participants with PD were recruited by ema...</td>\n",
       "      <td>28</td>\n",
       "    </tr>\n",
       "    <tr>\n",
       "      <th>...</th>\n",
       "      <td>...</td>\n",
       "      <td>...</td>\n",
       "      <td>...</td>\n",
       "      <td>...</td>\n",
       "      <td>...</td>\n",
       "      <td>...</td>\n",
       "      <td>...</td>\n",
       "    </tr>\n",
       "    <tr>\n",
       "      <th>58708</th>\n",
       "      <td>The very high case loads observed in some coun...</td>\n",
       "      <td>On the emergence of a power law in the distrib...</td>\n",
       "      <td>hx8bnrsi</td>\n",
       "      <td>2004.12772</td>\n",
       "      <td>2004.12772</td>\n",
       "      <td>The very high case loads observed in some coun...</td>\n",
       "      <td>39</td>\n",
       "    </tr>\n",
       "    <tr>\n",
       "      <th>58709</th>\n",
       "      <td>There is no need to attribute the highest case...</td>\n",
       "      <td>On the emergence of a power law in the distrib...</td>\n",
       "      <td>hx8bnrsi</td>\n",
       "      <td>2004.12772</td>\n",
       "      <td>2004.12772</td>\n",
       "      <td>There is no need to attribute the highest case...</td>\n",
       "      <td>14</td>\n",
       "    </tr>\n",
       "    <tr>\n",
       "      <th>58710</th>\n",
       "      <td>New York City, where confirmed cases substanti...</td>\n",
       "      <td>On the emergence of a power law in the distrib...</td>\n",
       "      <td>hx8bnrsi</td>\n",
       "      <td>2004.12772</td>\n",
       "      <td>2004.12772</td>\n",
       "      <td>New York City, where confirmed cases substanti...</td>\n",
       "      <td>15</td>\n",
       "    </tr>\n",
       "    <tr>\n",
       "      <th>58711</th>\n",
       "      <td>Brendan K. Beare: Methodology, Formal Analysis...</td>\n",
       "      <td>On the emergence of a power law in the distrib...</td>\n",
       "      <td>hx8bnrsi</td>\n",
       "      <td>2004.12772</td>\n",
       "      <td>2004.12772</td>\n",
       "      <td>Brendan K. Beare: Methodology, Formal Analysis...</td>\n",
       "      <td>10</td>\n",
       "    </tr>\n",
       "    <tr>\n",
       "      <th>58712</th>\n",
       "      <td>Alexis Akira Toda: Conceptualization, Methodol...</td>\n",
       "      <td>On the emergence of a power law in the distrib...</td>\n",
       "      <td>hx8bnrsi</td>\n",
       "      <td>2004.12772</td>\n",
       "      <td>2004.12772</td>\n",
       "      <td>Alexis Akira Toda: Conceptualization, Methodol...</td>\n",
       "      <td>13</td>\n",
       "    </tr>\n",
       "  </tbody>\n",
       "</table>\n",
       "<p>56861 rows × 7 columns</p>\n",
       "</div>"
      ],
      "text/plain": [
       "                                                sentence  \\\n",
       "0      A prevalent symptom of Parkinson’s disease (PD...   \n",
       "1      The dataset consists of 1812 videos from 604 (...   \n",
       "2      The participants without PD were recruited thr...   \n",
       "3      These participants self-identified as not havi...   \n",
       "4      The participants with PD were recruited by ema...   \n",
       "...                                                  ...   \n",
       "58708  The very high case loads observed in some coun...   \n",
       "58709  There is no need to attribute the highest case...   \n",
       "58710  New York City, where confirmed cases substanti...   \n",
       "58711  Brendan K. Beare: Methodology, Formal Analysis...   \n",
       "58712  Alexis Akira Toda: Conceptualization, Methodol...   \n",
       "\n",
       "                                                   title  cord_uid  \\\n",
       "0      On the emergence of a power law in the distrib...  hx8bnrsi   \n",
       "1      On the emergence of a power law in the distrib...  hx8bnrsi   \n",
       "2      On the emergence of a power law in the distrib...  hx8bnrsi   \n",
       "3      On the emergence of a power law in the distrib...  hx8bnrsi   \n",
       "4      On the emergence of a power law in the distrib...  hx8bnrsi   \n",
       "...                                                  ...       ...   \n",
       "58708  On the emergence of a power law in the distrib...  hx8bnrsi   \n",
       "58709  On the emergence of a power law in the distrib...  hx8bnrsi   \n",
       "58710  On the emergence of a power law in the distrib...  hx8bnrsi   \n",
       "58711  On the emergence of a power law in the distrib...  hx8bnrsi   \n",
       "58712  On the emergence of a power law in the distrib...  hx8bnrsi   \n",
       "\n",
       "       pmc_json_files    arxiv_id  \\\n",
       "0          2004.12772  2004.12772   \n",
       "1          2004.12772  2004.12772   \n",
       "2          2004.12772  2004.12772   \n",
       "3          2004.12772  2004.12772   \n",
       "4          2004.12772  2004.12772   \n",
       "...               ...         ...   \n",
       "58708      2004.12772  2004.12772   \n",
       "58709      2004.12772  2004.12772   \n",
       "58710      2004.12772  2004.12772   \n",
       "58711      2004.12772  2004.12772   \n",
       "58712      2004.12772  2004.12772   \n",
       "\n",
       "                                               sentences   wc  \n",
       "0      A prevalent symptom of Parkinson’s disease (PD...  124  \n",
       "1      The dataset consists of 1812 videos from 604 (...  156  \n",
       "2      The participants without PD were recruited thr...   13  \n",
       "3      These participants self-identified as not havi...    7  \n",
       "4      The participants with PD were recruited by ema...   28  \n",
       "...                                                  ...  ...  \n",
       "58708  The very high case loads observed in some coun...   39  \n",
       "58709  There is no need to attribute the highest case...   14  \n",
       "58710  New York City, where confirmed cases substanti...   15  \n",
       "58711  Brendan K. Beare: Methodology, Formal Analysis...   10  \n",
       "58712  Alexis Akira Toda: Conceptualization, Methodol...   13  \n",
       "\n",
       "[56861 rows x 7 columns]"
      ]
     },
     "execution_count": 9,
     "metadata": {},
     "output_type": "execute_result"
    }
   ],
   "source": [
    "sentences = []\n",
    "title = []\n",
    "cord_uid = []\n",
    "pmc_json_files = []\n",
    "arxiv_id = []\n",
    "for item in tqdm(data):\n",
    "    tmp = sent_tokenize(item[\"answare\"])\n",
    "    ls = len(tmp)\n",
    "    sentences += tmp\n",
    "    title += [item[\"title\"]] * ls\n",
    "    cord_uid += [item[\"cord_uid\"]] * ls\n",
    "    pmc_json_files += [item[\"pmc_json_files\"]] * ls\n",
    "    arxiv_id += [item[\"arxiv_id\"]] * ls\n",
    "sentences = pd.DataFrame({\n",
    "    \"sentence\" : sentences,\n",
    "    \"title\" : title,\n",
    "    \"cord_uid\" : cord_uid,\n",
    "    \"pmc_json_files\" : pmc_json_files,\n",
    "    \"arxiv_id\" : arxiv_id,\n",
    "})\n",
    "sentences[\"sentences\"] = sentences[\"sentence\"].apply(lambda x: x.strip())\n",
    "sentences[\"wc\"] = sentences[\"sentence\"].apply(lambda x: len(x.split(\" \")))\n",
    "sentences = sentences[(sentences[\"wc\"] >= 3)]\n",
    "sentences.reset_index()\n",
    "sentences"
   ]
  },
  {
   "cell_type": "code",
   "execution_count": 10,
   "id": "5c50ebb9-6d1c-4c6c-837d-14df84efb5af",
   "metadata": {},
   "outputs": [
    {
     "data": {
      "text/html": [
       "<div>\n",
       "<style scoped>\n",
       "    .dataframe tbody tr th:only-of-type {\n",
       "        vertical-align: middle;\n",
       "    }\n",
       "\n",
       "    .dataframe tbody tr th {\n",
       "        vertical-align: top;\n",
       "    }\n",
       "\n",
       "    .dataframe thead th {\n",
       "        text-align: right;\n",
       "    }\n",
       "</style>\n",
       "<table border=\"1\" class=\"dataframe\">\n",
       "  <thead>\n",
       "    <tr style=\"text-align: right;\">\n",
       "      <th></th>\n",
       "      <th>title</th>\n",
       "      <th>cord_uid</th>\n",
       "      <th>pmc_json_files</th>\n",
       "      <th>arxiv_id</th>\n",
       "      <th>sentences</th>\n",
       "    </tr>\n",
       "  </thead>\n",
       "  <tbody>\n",
       "    <tr>\n",
       "      <th>0</th>\n",
       "      <td>On the emergence of a power law in the distrib...</td>\n",
       "      <td>hx8bnrsi</td>\n",
       "      <td>2004.12772</td>\n",
       "      <td>2004.12772</td>\n",
       "      <td>A prevalent symptom of Parkinson’s disease (PD...</td>\n",
       "    </tr>\n",
       "    <tr>\n",
       "      <th>1</th>\n",
       "      <td>On the emergence of a power law in the distrib...</td>\n",
       "      <td>hx8bnrsi</td>\n",
       "      <td>2004.12772</td>\n",
       "      <td>2004.12772</td>\n",
       "      <td>The dataset consists of 1812 videos from 604 (...</td>\n",
       "    </tr>\n",
       "    <tr>\n",
       "      <th>2</th>\n",
       "      <td>On the emergence of a power law in the distrib...</td>\n",
       "      <td>hx8bnrsi</td>\n",
       "      <td>2004.12772</td>\n",
       "      <td>2004.12772</td>\n",
       "      <td>The participants without PD were recruited thr...</td>\n",
       "    </tr>\n",
       "    <tr>\n",
       "      <th>3</th>\n",
       "      <td>On the emergence of a power law in the distrib...</td>\n",
       "      <td>hx8bnrsi</td>\n",
       "      <td>2004.12772</td>\n",
       "      <td>2004.12772</td>\n",
       "      <td>These participants self-identified as not havi...</td>\n",
       "    </tr>\n",
       "    <tr>\n",
       "      <th>4</th>\n",
       "      <td>On the emergence of a power law in the distrib...</td>\n",
       "      <td>hx8bnrsi</td>\n",
       "      <td>2004.12772</td>\n",
       "      <td>2004.12772</td>\n",
       "      <td>The participants with PD were recruited by ema...</td>\n",
       "    </tr>\n",
       "    <tr>\n",
       "      <th>...</th>\n",
       "      <td>...</td>\n",
       "      <td>...</td>\n",
       "      <td>...</td>\n",
       "      <td>...</td>\n",
       "      <td>...</td>\n",
       "    </tr>\n",
       "    <tr>\n",
       "      <th>58708</th>\n",
       "      <td>On the emergence of a power law in the distrib...</td>\n",
       "      <td>hx8bnrsi</td>\n",
       "      <td>2004.12772</td>\n",
       "      <td>2004.12772</td>\n",
       "      <td>The very high case loads observed in some coun...</td>\n",
       "    </tr>\n",
       "    <tr>\n",
       "      <th>58709</th>\n",
       "      <td>On the emergence of a power law in the distrib...</td>\n",
       "      <td>hx8bnrsi</td>\n",
       "      <td>2004.12772</td>\n",
       "      <td>2004.12772</td>\n",
       "      <td>There is no need to attribute the highest case...</td>\n",
       "    </tr>\n",
       "    <tr>\n",
       "      <th>58710</th>\n",
       "      <td>On the emergence of a power law in the distrib...</td>\n",
       "      <td>hx8bnrsi</td>\n",
       "      <td>2004.12772</td>\n",
       "      <td>2004.12772</td>\n",
       "      <td>New York City, where confirmed cases substanti...</td>\n",
       "    </tr>\n",
       "    <tr>\n",
       "      <th>58711</th>\n",
       "      <td>On the emergence of a power law in the distrib...</td>\n",
       "      <td>hx8bnrsi</td>\n",
       "      <td>2004.12772</td>\n",
       "      <td>2004.12772</td>\n",
       "      <td>Brendan K. Beare: Methodology, Formal Analysis...</td>\n",
       "    </tr>\n",
       "    <tr>\n",
       "      <th>58712</th>\n",
       "      <td>On the emergence of a power law in the distrib...</td>\n",
       "      <td>hx8bnrsi</td>\n",
       "      <td>2004.12772</td>\n",
       "      <td>2004.12772</td>\n",
       "      <td>Alexis Akira Toda: Conceptualization, Methodol...</td>\n",
       "    </tr>\n",
       "  </tbody>\n",
       "</table>\n",
       "<p>56861 rows × 5 columns</p>\n",
       "</div>"
      ],
      "text/plain": [
       "                                                   title  cord_uid  \\\n",
       "0      On the emergence of a power law in the distrib...  hx8bnrsi   \n",
       "1      On the emergence of a power law in the distrib...  hx8bnrsi   \n",
       "2      On the emergence of a power law in the distrib...  hx8bnrsi   \n",
       "3      On the emergence of a power law in the distrib...  hx8bnrsi   \n",
       "4      On the emergence of a power law in the distrib...  hx8bnrsi   \n",
       "...                                                  ...       ...   \n",
       "58708  On the emergence of a power law in the distrib...  hx8bnrsi   \n",
       "58709  On the emergence of a power law in the distrib...  hx8bnrsi   \n",
       "58710  On the emergence of a power law in the distrib...  hx8bnrsi   \n",
       "58711  On the emergence of a power law in the distrib...  hx8bnrsi   \n",
       "58712  On the emergence of a power law in the distrib...  hx8bnrsi   \n",
       "\n",
       "       pmc_json_files    arxiv_id  \\\n",
       "0          2004.12772  2004.12772   \n",
       "1          2004.12772  2004.12772   \n",
       "2          2004.12772  2004.12772   \n",
       "3          2004.12772  2004.12772   \n",
       "4          2004.12772  2004.12772   \n",
       "...               ...         ...   \n",
       "58708      2004.12772  2004.12772   \n",
       "58709      2004.12772  2004.12772   \n",
       "58710      2004.12772  2004.12772   \n",
       "58711      2004.12772  2004.12772   \n",
       "58712      2004.12772  2004.12772   \n",
       "\n",
       "                                               sentences  \n",
       "0      A prevalent symptom of Parkinson’s disease (PD...  \n",
       "1      The dataset consists of 1812 videos from 604 (...  \n",
       "2      The participants without PD were recruited thr...  \n",
       "3      These participants self-identified as not havi...  \n",
       "4      The participants with PD were recruited by ema...  \n",
       "...                                                  ...  \n",
       "58708  The very high case loads observed in some coun...  \n",
       "58709  There is no need to attribute the highest case...  \n",
       "58710  New York City, where confirmed cases substanti...  \n",
       "58711  Brendan K. Beare: Methodology, Formal Analysis...  \n",
       "58712  Alexis Akira Toda: Conceptualization, Methodol...  \n",
       "\n",
       "[56861 rows x 5 columns]"
      ]
     },
     "execution_count": 10,
     "metadata": {},
     "output_type": "execute_result"
    }
   ],
   "source": [
    "sentences = sentences.drop(columns=[\"sentence\",\"wc\"])\n",
    "sentences.to_json(f\"{dir_root}sentences.json\",orient=\"records\")\n",
    "sentences"
   ]
  },
  {
   "cell_type": "code",
   "execution_count": 11,
   "id": "d93786a9-c786-41f3-9495-285cecbdfd36",
   "metadata": {},
   "outputs": [
    {
     "data": {
      "application/vnd.jupyter.widget-view+json": {
       "model_id": "ffd6930011ec43c1b4561db5ffc24eae",
       "version_major": 2,
       "version_minor": 0
      },
      "text/plain": [
       "Batches:   0%|          | 0/1777 [00:00<?, ?it/s]"
      ]
     },
     "metadata": {},
     "output_type": "display_data"
    },
    {
     "data": {
      "text/plain": [
       "56861"
      ]
     },
     "execution_count": 11,
     "metadata": {},
     "output_type": "execute_result"
    }
   ],
   "source": [
    "embbeded_vectors = model.encode(sentences[\"sentences\"].values, show_progress_bar=True)\n",
    "len(embbeded_vectors)"
   ]
  },
  {
   "cell_type": "code",
   "execution_count": 12,
   "id": "a85a8d94-b641-45e5-81b7-8ac16c396431",
   "metadata": {},
   "outputs": [],
   "source": [
    "with open(f\"{dir_root}sentences.emb\", \"wb\") as f:\n",
    "    np.save(f, embbeded_vectors)"
   ]
  },
  {
   "cell_type": "markdown",
   "id": "42180eac-cd1a-435d-ba54-b0985357157b",
   "metadata": {},
   "source": [
    "## Embeding the questions"
   ]
  },
  {
   "cell_type": "code",
   "execution_count": 19,
   "id": "8af5b2b3-6703-40c5-86e5-7aa91dc4f702",
   "metadata": {},
   "outputs": [
    {
     "name": "stderr",
     "output_type": "stream",
     "text": [
      "100% 18004/18004 [00:00<00:00, 834098.23it/s]\n"
     ]
    },
    {
     "data": {
      "text/plain": [
       "(58290, 18003, 58290)"
      ]
     },
     "execution_count": 19,
     "metadata": {},
     "output_type": "execute_result"
    }
   ],
   "source": [
    "indexes = []\n",
    "questions = []\n",
    "\n",
    "for i in tqdm(range(len(data))):\n",
    "    for q in data[i][\"questions\"]:\n",
    "        indexes.append(i)\n",
    "        questions.append(q)\n",
    "\n",
    "len(indexes), max(indexes), len(questions)"
   ]
  },
  {
   "cell_type": "code",
   "execution_count": 20,
   "id": "4f4f2bcf-738b-4f29-9354-48d841dd151f",
   "metadata": {},
   "outputs": [
    {
     "name": "stderr",
     "output_type": "stream",
     "text": [
      "100% 58290/58290 [00:00<00:00, 1847352.20it/s]\n"
     ]
    }
   ],
   "source": [
    "with open(f\"{dir_root}qaa.idx\", 'w') as f:\n",
    "    for item in tqdm(indexes):\n",
    "        f.write(f\"{str(item)}\\n\")"
   ]
  },
  {
   "cell_type": "code",
   "execution_count": 21,
   "id": "1a835e70-cc9e-4862-9960-abfc08e1054e",
   "metadata": {},
   "outputs": [
    {
     "data": {
      "application/vnd.jupyter.widget-view+json": {
       "model_id": "ec692b932d7a4549b514db9482fbcb47",
       "version_major": 2,
       "version_minor": 0
      },
      "text/plain": [
       "Batches:   0%|          | 0/1822 [00:00<?, ?it/s]"
      ]
     },
     "metadata": {},
     "output_type": "display_data"
    },
    {
     "data": {
      "text/plain": [
       "58290"
      ]
     },
     "execution_count": 21,
     "metadata": {},
     "output_type": "execute_result"
    }
   ],
   "source": [
    "embbeded_vectors = model.encode(questions, show_progress_bar=True)\n",
    "len(embbeded_vectors)"
   ]
  },
  {
   "cell_type": "code",
   "execution_count": 24,
   "id": "9a5510ed-f33e-44b3-8259-74f822d9e8c6",
   "metadata": {},
   "outputs": [],
   "source": [
    "with open(f\"{dir_root}qaa.emb\", \"wb\") as f:\n",
    "    np.save(f, embbeded_vectors)"
   ]
  }
 ],
 "metadata": {
  "kernelspec": {
   "display_name": "Python [conda env:SuperExpert]",
   "language": "python",
   "name": "conda-env-SuperExpert-py"
  },
  "language_info": {
   "codemirror_mode": {
    "name": "ipython",
    "version": 3
   },
   "file_extension": ".py",
   "mimetype": "text/x-python",
   "name": "python",
   "nbconvert_exporter": "python",
   "pygments_lexer": "ipython3",
   "version": "3.10.12"
  }
 },
 "nbformat": 4,
 "nbformat_minor": 5
}
